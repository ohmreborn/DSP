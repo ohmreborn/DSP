{
  "cells": [
    {
      "cell_type": "code",
      "execution_count": null,
      "metadata": {
        "id": "coeEVfea-jmD"
      },
      "outputs": [],
      "source": [
        "#Import scipy\n",
        "import scipy as sci\n",
        "#Import matplotlib and associated modules for 3D and animations\n",
        "import matplotlib.pyplot as plt\n",
        "from mpl_toolkits.mplot3d import Axes3D\n",
        "from matplotlib import animation\n",
        "import numpy as np"
      ]
    },
    {
      "cell_type": "code",
      "execution_count": null,
      "metadata": {
        "id": "cowK55qTTa6E"
      },
      "outputs": [],
      "source": [
        "#Define universal gravitation constant\n",
        "G=6.67408e-11 #N-m2/kg2\n",
        "#Reference quantities\n",
        "m_nd=5.9722*10**24 #kg #mass of the earth\n",
        "r_nd=149597870691 # 1 หน่วย ดาราศาสตร์\n",
        "v_nd=30001 #m/s #relative velocity of earth around the sun\n",
        "t_nd=365*24*3600 #s #year\n",
        "#Net constants\n",
        "K1=G*t_nd*m_nd/(r_nd**2*v_nd)\n",
        "K2=v_nd*t_nd/r_nd"
      ]
    },
    {
      "cell_type": "code",
      "execution_count": null,
      "metadata": {
        "id": "GWuVE86LKbYS"
      },
      "outputs": [],
      "source": [
        "n = 1/(3**(0.5))\n",
        "n**2"
      ]
    },
    {
      "cell_type": "code",
      "execution_count": null,
      "metadata": {
        "id": "mafa_3Tu-zKc"
      },
      "outputs": [],
      "source": [
        "#Define masses\n",
        "m1=1 #Earth_1\n",
        "m2=1 #damm earth\n",
        "m3 = 333000 # sun\n",
        "#Define initial position vectors\n",
        "r1=[1,0,0] #m\n",
        "r2=[n,n,n] #m\n",
        "r3=[0,0,0] #m\n",
        "#Convert pos vectors to arrays\n",
        "r1=np.array(r1,dtype=\"float64\")\n",
        "r2=np.array(r2,dtype=\"float64\")\n",
        "r3=np.array(r3,dtype=\"float64\")\n",
        "\n",
        "#Define initial velocities\n",
        "v1=[0,0,1] #m/s\n",
        "v2=[0,0,-1] #m/s\n",
        "v3=[0,0.01,0]\n",
        "#Convert velocity vectors to arrays\n",
        "v1=np.array(v1,dtype=\"float64\")\n",
        "v2=np.array(v2,dtype=\"float64\")\n",
        "v3=np.array(v3,dtype=\"float64\")\n"
      ]
    },
    {
      "cell_type": "code",
      "execution_count": null,
      "metadata": {
        "id": "qzwKemEq_La8"
      },
      "outputs": [],
      "source": [
        "#A function defining the equations of motion \n",
        "def ThreeBodyEquations(y0,t,K1=K1,K2=K2,m1=m1,m2=m2,m3=m3): \n",
        "    r1=y0[:3]\n",
        "    r2=y0[3:6]\n",
        "    r3=y0[6:9]\n",
        "    v1=y0[9:12]\n",
        "    v2=y0[12:15]\n",
        "    v3 = y0[15:18]\n",
        "\n",
        "    \n",
        "    r12=sci.linalg.norm(r2-r1) #Calculate magnitude or norm of vector\n",
        "    r13=sci.linalg.norm(r3-r1) #Calculate magnitude or norm of vector\n",
        "    r23=sci.linalg.norm(r3-r2) #Calculate magnitude or norm of vector\n",
        "\n",
        "    # ปลาย - ต้น\n",
        "    dv1bydt=K1*m3*(r3-r1)/r13**3 +K1*m2*(r2-r1)/r12**3\n",
        "    dv2bydt=K1*m3*(r3-r2)/r23**3 +K1*m1*(r1-r2)/r12**3\n",
        "    dv3bydt=K1*m1*(r1-r3)/r13**3+K1*m2*(r2-r3)/r23**3\n",
        "\n",
        "    dr1bydt=K2*v1\n",
        "    dr2bydt=K2*v2\n",
        "    dr3bydt=K2*v3\n",
        "\n",
        "    r_derivs=sci.concatenate((dr1bydt,dr2bydt))\n",
        "    r_derivs=sci.concatenate((r_derivs,dr3bydt))\n",
        "\n",
        "    v_derivs=sci.concatenate((dv1bydt,dv2bydt))\n",
        "    v_derivs=sci.concatenate((v_derivs,dv3bydt))\n",
        "\n",
        "    derivs=sci.concatenate((r_derivs,v_derivs))\n",
        "    return derivs"
      ]
    },
    {
      "cell_type": "code",
      "execution_count": null,
      "metadata": {
        "id": "BlV3quW-_qVh"
      },
      "outputs": [],
      "source": [
        "#Package initial parameters\n",
        "init_params=sci.array([r1,r2,r3,v1,v2,v3]) #create array of initial params\n",
        "\n",
        "init_params=init_params.flatten() #flatten array to make it 1D\n",
        "time_span=sci.linspace(0,20,500) #8 orbital periods and 500 points\n",
        "#Run the ODE solver\n",
        "import scipy.integrate\n",
        "three_body_sol=sci.integrate.odeint(ThreeBodyEquations,init_params,time_span)"
      ]
    },
    {
      "cell_type": "code",
      "execution_count": null,
      "metadata": {
        "id": "-BaPVU63KbYW"
      },
      "outputs": [],
      "source": [
        ""
      ]
    },
    {
      "cell_type": "code",
      "execution_count": null,
      "metadata": {
        "id": "KTc_GWQCKbYX"
      },
      "outputs": [],
      "source": [
        "a = three_body_sol[:,:3]\n",
        "b = three_body_sol[:,3:6]\n",
        "for i in range(500):\n",
        "    c = a[i]-b[i]\n",
        "    print(np.linalg.norm(c))"
      ]
    },
    {
      "cell_type": "code",
      "execution_count": null,
      "metadata": {
        "id": "hykM_fHJ_tJ8"
      },
      "outputs": [],
      "source": [
        "r1_sol=three_body_sol[:,:3].T.reshape(3,-1)\n",
        "r2_sol=three_body_sol[:,3:6].T.reshape(3,-1)\n",
        "r3_sol=three_body_sol[:,6:9].T.reshape(3,-1)"
      ]
    },
    {
      "cell_type": "code",
      "execution_count": null,
      "metadata": {
        "id": "Pq_Xj7A-KbYY"
      },
      "outputs": [],
      "source": [
        "r1_sol.shape"
      ]
    },
    {
      "cell_type": "code",
      "execution_count": null,
      "metadata": {
        "id": "mgWWk_4OKbYZ"
      },
      "outputs": [],
      "source": [
        "three_body_sol[:,15:18]"
      ]
    },
    {
      "cell_type": "markdown",
      "metadata": {
        "id": "FshM6NlzKbYZ"
      },
      "source": [
        "## plot"
      ]
    },
    {
      "cell_type": "code",
      "execution_count": null,
      "metadata": {
        "id": "X_G_ckezby73"
      },
      "outputs": [],
      "source": [
        "import numpy as np\n",
        "%matplotlib notebook\n",
        "def func(num, dataSet, line):\n",
        "    # NOTE: there is no .set_data() for 3 dim data...\n",
        "    line.set_data(dataSet[0:2, :num])    \n",
        "    line.set_3d_properties(dataSet[2, :num])\n",
        "    return line\n",
        "t = r1_sol[2]\n",
        "x = r1_sol[0]\n",
        "y = r1_sol[1]\n",
        "#--------------------------------------------------------------------------------\n",
        "t2 = r2_sol[2]\n",
        "x2 = r2_sol[0]\n",
        "y2 = r2_sol[1]\n",
        "#------------------------------------------------------------------------------\n",
        "t3 = r3_sol[2]\n",
        "x3 = r3_sol[0]\n",
        "y3 = r3_sol[1]\n",
        "\n",
        "dataSet1 = np.array([x, y, t])\n",
        "dataSet2 = np.array([x2, y2, t2])\n",
        "dataSet3 = np.array([x3, y3, t3])\n",
        "numdatapoint = len(r1_sol)\n",
        "fig=plt.figure()\n",
        "ax = Axes3D(fig)\n",
        "line1 = ax.plot(r1_sol[0],r1_sol[1],r1_sol[2],color=\"darkblue\",label='Earth')[0]\n",
        "line2 = ax.plot(r2_sol[0],r2_sol[1],r2_sol[2],color=\"tab:red\",label='Damm Earth')[0]\n",
        "line3 = ax.plot(r3_sol[0],r3_sol[1],r3_sol[2],color=\"green\",label='Sun')[0]\n",
        "ax.legend()\n",
        "interval= 200\n",
        "line_ani1 = animation.FuncAnimation(fig, func, frames=500, fargs=(dataSet1,line1), interval=interval, blit=True)\n",
        "line_ani2 = animation.FuncAnimation(fig, func, frames=500, fargs=(dataSet2,line2), interval=interval, blit=True)\n",
        "line_ani3 = animation.FuncAnimation(fig, func, frames=500, fargs=(dataSet3,line3), interval=interval, blit=True)\n",
        "\n",
        "#Add a few more bells and whistles\n",
        "ax.set_xlabel(\"x-coordinate\",fontsize=14)\n",
        "ax.set_ylabel(\"y-coordinate\",fontsize=14)\n",
        "ax.set_zlabel(\"z-coordinate\",fontsize=14)\n",
        "ax.set_title(\"Visualization of orbits of stars in a two-body system\\n\",fontsize=14)\n"
      ]
    },
    {
      "cell_type": "code",
      "execution_count": null,
      "metadata": {
        "id": "VJNZWLA7KbYb"
      },
      "outputs": [],
      "source": [
        ""
      ]
    }
  ],
  "metadata": {
    "accelerator": "GPU",
    "colab": {
      "collapsed_sections": [],
      "name": "DSP.ipynb",
      "provenance": []
    },
    "kernelspec": {
      "display_name": "Python 3 (ipykernel)",
      "language": "python",
      "name": "python3"
    },
    "language_info": {
      "codemirror_mode": {
        "name": "ipython",
        "version": 3
      },
      "file_extension": ".py",
      "mimetype": "text/x-python",
      "name": "python",
      "nbconvert_exporter": "python",
      "pygments_lexer": "ipython3",
      "version": "3.9.7"
    }
  },
  "nbformat": 4,
  "nbformat_minor": 0
}